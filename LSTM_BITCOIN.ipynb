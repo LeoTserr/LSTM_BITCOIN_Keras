{
 "cells": [
  {
   "cell_type": "markdown",
   "metadata": {},
   "source": [
    "# Data from: https://finance.yahoo.com/quote/BTC-USD/history?p=BTC-USD\n",
    "##  Feb 04, 2018 - Feb 04, 2019"
   ]
  },
  {
   "cell_type": "code",
   "execution_count": 1,
   "metadata": {},
   "outputs": [
    {
     "name": "stderr",
     "output_type": "stream",
     "text": [
      "Using TensorFlow backend.\n"
     ]
    }
   ],
   "source": [
    "import pandas as pd\n",
    "import matplotlib.pyplot as plt\n",
    "%matplotlib notebook\n",
    "import numpy as np\n",
    "from sklearn.preprocessing import MinMaxScaler\n",
    "from sklearn.metrics import mean_absolute_error\n",
    "from keras.models import Sequential\n",
    "from keras.layers import Dense, SimpleRNN, Dropout, Flatten, Bidirectional, Activation\n",
    "# from keras.preprocessing.sequence import pad_sequences"
   ]
  },
  {
   "cell_type": "code",
   "execution_count": 2,
   "metadata": {},
   "outputs": [],
   "source": [
    "df = pd.read_excel(\"Bitcoin_usd.xlsx\", index_col='Date')"
   ]
  },
  {
   "cell_type": "code",
   "execution_count": 3,
   "metadata": {},
   "outputs": [
    {
     "data": {
      "text/html": [
       "<div>\n",
       "<style scoped>\n",
       "    .dataframe tbody tr th:only-of-type {\n",
       "        vertical-align: middle;\n",
       "    }\n",
       "\n",
       "    .dataframe tbody tr th {\n",
       "        vertical-align: top;\n",
       "    }\n",
       "\n",
       "    .dataframe thead th {\n",
       "        text-align: right;\n",
       "    }\n",
       "</style>\n",
       "<table border=\"1\" class=\"dataframe\">\n",
       "  <thead>\n",
       "    <tr style=\"text-align: right;\">\n",
       "      <th></th>\n",
       "      <th>Open</th>\n",
       "      <th>High</th>\n",
       "      <th>Low</th>\n",
       "      <th>Close</th>\n",
       "      <th>Adj_Close</th>\n",
       "      <th>Volume</th>\n",
       "    </tr>\n",
       "    <tr>\n",
       "      <th>Date</th>\n",
       "      <th></th>\n",
       "      <th></th>\n",
       "      <th></th>\n",
       "      <th></th>\n",
       "      <th></th>\n",
       "      <th></th>\n",
       "    </tr>\n",
       "  </thead>\n",
       "  <tbody>\n",
       "    <tr>\n",
       "      <th>2019-02-04</th>\n",
       "      <td>3450.03</td>\n",
       "      <td>3470.80</td>\n",
       "      <td>3429.21</td>\n",
       "      <td>3436.52</td>\n",
       "      <td>3436.52</td>\n",
       "      <td>45471364</td>\n",
       "    </tr>\n",
       "    <tr>\n",
       "      <th>2019-01-25</th>\n",
       "      <td>3598.52</td>\n",
       "      <td>3607.43</td>\n",
       "      <td>3539.41</td>\n",
       "      <td>3582.89</td>\n",
       "      <td>3582.89</td>\n",
       "      <td>116674680</td>\n",
       "    </tr>\n",
       "    <tr>\n",
       "      <th>2019-01-24</th>\n",
       "      <td>3572.05</td>\n",
       "      <td>3616.33</td>\n",
       "      <td>3546.50</td>\n",
       "      <td>3598.52</td>\n",
       "      <td>3598.52</td>\n",
       "      <td>113155246</td>\n",
       "    </tr>\n",
       "    <tr>\n",
       "      <th>2019-01-23</th>\n",
       "      <td>3602.04</td>\n",
       "      <td>3631.15</td>\n",
       "      <td>3543.96</td>\n",
       "      <td>3572.05</td>\n",
       "      <td>3572.05</td>\n",
       "      <td>135864247</td>\n",
       "    </tr>\n",
       "    <tr>\n",
       "      <th>2019-01-22</th>\n",
       "      <td>3571.92</td>\n",
       "      <td>3635.69</td>\n",
       "      <td>3473.77</td>\n",
       "      <td>3602.04</td>\n",
       "      <td>3602.04</td>\n",
       "      <td>191355241</td>\n",
       "    </tr>\n",
       "  </tbody>\n",
       "</table>\n",
       "</div>"
      ],
      "text/plain": [
       "               Open     High      Low    Close  Adj_Close     Volume\n",
       "Date                                                                \n",
       "2019-02-04  3450.03  3470.80  3429.21  3436.52    3436.52   45471364\n",
       "2019-01-25  3598.52  3607.43  3539.41  3582.89    3582.89  116674680\n",
       "2019-01-24  3572.05  3616.33  3546.50  3598.52    3598.52  113155246\n",
       "2019-01-23  3602.04  3631.15  3543.96  3572.05    3572.05  135864247\n",
       "2019-01-22  3571.92  3635.69  3473.77  3602.04    3602.04  191355241"
      ]
     },
     "execution_count": 3,
     "metadata": {},
     "output_type": "execute_result"
    }
   ],
   "source": [
    "df.head()"
   ]
  },
  {
   "cell_type": "code",
   "execution_count": 4,
   "metadata": {},
   "outputs": [],
   "source": [
    "df.sort_index(ascending=True, inplace=True)"
   ]
  },
  {
   "cell_type": "code",
   "execution_count": 5,
   "metadata": {},
   "outputs": [
    {
     "data": {
      "text/html": [
       "<div>\n",
       "<style scoped>\n",
       "    .dataframe tbody tr th:only-of-type {\n",
       "        vertical-align: middle;\n",
       "    }\n",
       "\n",
       "    .dataframe tbody tr th {\n",
       "        vertical-align: top;\n",
       "    }\n",
       "\n",
       "    .dataframe thead th {\n",
       "        text-align: right;\n",
       "    }\n",
       "</style>\n",
       "<table border=\"1\" class=\"dataframe\">\n",
       "  <thead>\n",
       "    <tr style=\"text-align: right;\">\n",
       "      <th></th>\n",
       "      <th>Open</th>\n",
       "      <th>High</th>\n",
       "      <th>Low</th>\n",
       "      <th>Close</th>\n",
       "      <th>Adj_Close</th>\n",
       "      <th>Volume</th>\n",
       "    </tr>\n",
       "    <tr>\n",
       "      <th>Date</th>\n",
       "      <th></th>\n",
       "      <th></th>\n",
       "      <th></th>\n",
       "      <th></th>\n",
       "      <th></th>\n",
       "      <th></th>\n",
       "    </tr>\n",
       "  </thead>\n",
       "  <tbody>\n",
       "    <tr>\n",
       "      <th>2018-02-04</th>\n",
       "      <td>9251.27</td>\n",
       "      <td>9400.99</td>\n",
       "      <td>7889.83</td>\n",
       "      <td>8218.05</td>\n",
       "      <td>8218.05</td>\n",
       "      <td>1413207410</td>\n",
       "    </tr>\n",
       "    <tr>\n",
       "      <th>2018-02-05</th>\n",
       "      <td>8218.05</td>\n",
       "      <td>8391.29</td>\n",
       "      <td>6627.31</td>\n",
       "      <td>6937.08</td>\n",
       "      <td>6937.08</td>\n",
       "      <td>2534149181</td>\n",
       "    </tr>\n",
       "    <tr>\n",
       "      <th>2018-02-06</th>\n",
       "      <td>6936.43</td>\n",
       "      <td>7932.38</td>\n",
       "      <td>5968.36</td>\n",
       "      <td>7701.25</td>\n",
       "      <td>7701.25</td>\n",
       "      <td>3397596513</td>\n",
       "    </tr>\n",
       "    <tr>\n",
       "      <th>2018-02-07</th>\n",
       "      <td>7701.25</td>\n",
       "      <td>8572.68</td>\n",
       "      <td>7208.86</td>\n",
       "      <td>7592.72</td>\n",
       "      <td>7592.72</td>\n",
       "      <td>2159765331</td>\n",
       "    </tr>\n",
       "    <tr>\n",
       "      <th>2018-02-08</th>\n",
       "      <td>7593.78</td>\n",
       "      <td>8643.94</td>\n",
       "      <td>7590.48</td>\n",
       "      <td>8260.69</td>\n",
       "      <td>8260.69</td>\n",
       "      <td>1594673973</td>\n",
       "    </tr>\n",
       "  </tbody>\n",
       "</table>\n",
       "</div>"
      ],
      "text/plain": [
       "               Open     High      Low    Close  Adj_Close      Volume\n",
       "Date                                                                 \n",
       "2018-02-04  9251.27  9400.99  7889.83  8218.05    8218.05  1413207410\n",
       "2018-02-05  8218.05  8391.29  6627.31  6937.08    6937.08  2534149181\n",
       "2018-02-06  6936.43  7932.38  5968.36  7701.25    7701.25  3397596513\n",
       "2018-02-07  7701.25  8572.68  7208.86  7592.72    7592.72  2159765331\n",
       "2018-02-08  7593.78  8643.94  7590.48  8260.69    8260.69  1594673973"
      ]
     },
     "execution_count": 5,
     "metadata": {},
     "output_type": "execute_result"
    }
   ],
   "source": [
    "df.head()"
   ]
  },
  {
   "cell_type": "code",
   "execution_count": 6,
   "metadata": {},
   "outputs": [
    {
     "data": {
      "text/plain": [
       "Timestamp('2019-02-04 00:00:00')"
      ]
     },
     "execution_count": 6,
     "metadata": {},
     "output_type": "execute_result"
    }
   ],
   "source": [
    "max(df.index)"
   ]
  },
  {
   "cell_type": "code",
   "execution_count": 7,
   "metadata": {},
   "outputs": [
    {
     "data": {
      "text/plain": [
       "Timestamp('2018-02-04 00:00:00')"
      ]
     },
     "execution_count": 7,
     "metadata": {},
     "output_type": "execute_result"
    }
   ],
   "source": [
    "min(df.index)"
   ]
  },
  {
   "cell_type": "code",
   "execution_count": 8,
   "metadata": {
    "scrolled": false
   },
   "outputs": [
    {
     "data": {
      "text/plain": [
       "<matplotlib.axes._subplots.AxesSubplot at 0x1aefc052860>"
      ]
     },
     "execution_count": 8,
     "metadata": {},
     "output_type": "execute_result"
    },
    {
     "data": {
      "image/png": "[encoded data removed]",
      "text/plain": [
       "<Figure size 432x288 with 1 Axes>"
      ]
     },
     "metadata": {
      "needs_background": "light"
     },
     "output_type": "display_data"
    }
   ],
   "source": [
    "df.Close.plot()"
   ]
  },
  {
   "cell_type": "code",
   "execution_count": 9,
   "metadata": {},
   "outputs": [
    {
     "data": {
      "text/plain": [
       "Open         0\n",
       "High         0\n",
       "Low          0\n",
       "Close        0\n",
       "Adj_Close    0\n",
       "Volume       0\n",
       "dtype: int64"
      ]
     },
     "execution_count": 9,
     "metadata": {},
     "output_type": "execute_result"
    }
   ],
   "source": [
    "df.isnull().sum()"
   ]
  },
  {
   "cell_type": "code",
   "execution_count": 10,
   "metadata": {},
   "outputs": [],
   "source": [
    "data = df.Close.copy()"
   ]
  },
  {
   "cell_type": "code",
   "execution_count": 11,
   "metadata": {},
   "outputs": [
    {
     "data": {
      "text/plain": [
       "Date\n",
       "2018-02-04    8218.05\n",
       "2018-02-05    6937.08\n",
       "2018-02-06    7701.25\n",
       "2018-02-07    7592.72\n",
       "2018-02-08    8260.69\n",
       "Name: Close, dtype: float64"
      ]
     },
     "execution_count": 11,
     "metadata": {},
     "output_type": "execute_result"
    }
   ],
   "source": [
    "data.head()"
   ]
  },
  {
   "cell_type": "code",
   "execution_count": 12,
   "metadata": {},
   "outputs": [],
   "source": [
    "data.reset_index(drop=True, inplace=True)"
   ]
  },
  {
   "cell_type": "code",
   "execution_count": 13,
   "metadata": {},
   "outputs": [
    {
     "data": {
      "text/plain": [
       "0    8218.05\n",
       "1    6937.08\n",
       "2    7701.25\n",
       "3    7592.72\n",
       "4    8260.69\n",
       "Name: Close, dtype: float64"
      ]
     },
     "execution_count": 13,
     "metadata": {},
     "output_type": "execute_result"
    }
   ],
   "source": [
    "data.head()"
   ]
  },
  {
   "cell_type": "code",
   "execution_count": 14,
   "metadata": {
    "scrolled": true
   },
   "outputs": [
    {
     "data": {
      "text/plain": [
       "0"
      ]
     },
     "execution_count": 14,
     "metadata": {},
     "output_type": "execute_result"
    }
   ],
   "source": [
    "data.isnull().sum()"
   ]
  },
  {
   "cell_type": "markdown",
   "metadata": {},
   "source": [
    "# Define data for prediction and for training\n",
    "## For training use all the data except the last 30 days.\n",
    "## For eval use the last 30 days."
   ]
  },
  {
   "cell_type": "code",
   "execution_count": 15,
   "metadata": {},
   "outputs": [],
   "source": [
    "train=data.iloc[:len(df)-30]\n",
    "test=data.iloc[len(train):]"
   ]
  },
  {
   "cell_type": "code",
   "execution_count": 16,
   "metadata": {},
   "outputs": [],
   "source": [
    "train=np.array(train)\n",
    "train=train.reshape(train.shape[0],1)"
   ]
  },
  {
   "cell_type": "code",
   "execution_count": 17,
   "metadata": {},
   "outputs": [],
   "source": [
    "x_test=data[len(data)-len(test):]\n",
    "x_test=x_test.values.reshape(-1,1)"
   ]
  },
  {
   "cell_type": "markdown",
   "metadata": {},
   "source": [
    "## Data normalization using \"MinMaxScaler\""
   ]
  },
  {
   "cell_type": "code",
   "execution_count": 18,
   "metadata": {},
   "outputs": [
    {
     "data": {
      "text/plain": [
       "MinMaxScaler(copy=True, feature_range=(0, 1))"
      ]
     },
     "execution_count": 18,
     "metadata": {},
     "output_type": "execute_result"
    }
   ],
   "source": [
    "scaler=MinMaxScaler(feature_range=(0,1))\n",
    "scaler.fit(train)"
   ]
  },
  {
   "cell_type": "code",
   "execution_count": 19,
   "metadata": {},
   "outputs": [],
   "source": [
    "train_scaled=scaler.transform(train)"
   ]
  },
  {
   "cell_type": "code",
   "execution_count": 20,
   "metadata": {},
   "outputs": [],
   "source": [
    "x_test_scaled=scaler.transform(x_test)"
   ]
  },
  {
   "cell_type": "markdown",
   "metadata": {},
   "source": [
    "## Rolling window 5 steps"
   ]
  },
  {
   "cell_type": "code",
   "execution_count": 21,
   "metadata": {},
   "outputs": [
    {
     "name": "stdout",
     "output_type": "stream",
     "text": [
      "x_test shape=  (25, 5, 1)\n",
      "y_test shape=  (25,)\n"
     ]
    }
   ],
   "source": [
    "timestep=5\n",
    "x_test=[]\n",
    "y_test=[]\n",
    "\n",
    "for i in range(timestep,x_test_scaled.shape[0]):\n",
    "    x_test.append(x_test_scaled[i-timestep:i,0])\n",
    "    y_test.append(x_test_scaled[i,0])\n",
    "\n",
    "x_test,y_test=np.array(x_test),np.array(y_test)\n",
    "x_test=x_test.reshape(x_test.shape[0],x_test.shape[1],1)\n",
    "print(\"x_test shape= \",x_test.shape)\n",
    "print(\"y_test shape= \",y_test.shape)"
   ]
  },
  {
   "cell_type": "code",
   "execution_count": 22,
   "metadata": {},
   "outputs": [],
   "source": [
    "y_test= np.array(y_test)\n",
    "y_test=y_test.reshape(-1, 1)\n",
    "y_true=scaler.inverse_transform(y_test)"
   ]
  },
  {
   "cell_type": "code",
   "execution_count": 23,
   "metadata": {
    "scrolled": true
   },
   "outputs": [
    {
     "name": "stdout",
     "output_type": "stream",
     "text": [
      "x_train shape=  (322, 5, 1)\n",
      "y_train shape=  (322,)\n"
     ]
    }
   ],
   "source": [
    "x_train=[]\n",
    "y_train=[]\n",
    "\n",
    "for i in range(timestep,train_scaled.shape[0]):\n",
    "    x_train.append(train_scaled[i-timestep:i,0])\n",
    "    y_train.append(train_scaled[i,0])\n",
    "\n",
    "x_train,y_train=np.array(x_train),np.array(y_train)\n",
    "x_train=x_train.reshape(x_train.shape[0],x_train.shape[1],1)\n",
    "print(\"x_train shape= \",x_train.shape)\n",
    "print(\"y_train shape= \",y_train.shape)"
   ]
  },
  {
   "cell_type": "markdown",
   "metadata": {},
   "source": [
    "## Define model, compile and start training"
   ]
  },
  {
   "cell_type": "code",
   "execution_count": 24,
   "metadata": {},
   "outputs": [],
   "source": [
    "model = Sequential()\n",
    "model.add(Bidirectional(SimpleRNN(128, return_sequences=True), input_shape=(x_train.shape[1],1)))\n",
    "model.add(Activation('relu'))\n",
    "model.add(Bidirectional(SimpleRNN(256, return_sequences=False)))\n",
    "model.add(Activation('relu'))\n",
    "model.add(Dense(1, activation='linear'))\n",
    "model.compile(loss='mean_squared_error', optimizer='adam')"
   ]
  },
  {
   "cell_type": "code",
   "execution_count": 25,
   "metadata": {
    "scrolled": false
   },
   "outputs": [
    {
     "name": "stdout",
     "output_type": "stream",
     "text": [
      "Epoch 1/10\n",
      "322/322 [==============================] - 1s 3ms/step - loss: 0.2355\n",
      "Epoch 2/10\n",
      "322/322 [==============================] - 0s 520us/step - loss: 0.0128\n",
      "Epoch 3/10\n",
      "322/322 [==============================] - 0s 542us/step - loss: 0.0030\n",
      "Epoch 4/10\n",
      "322/322 [==============================] - 0s 548us/step - loss: 0.0016\n",
      "Epoch 5/10\n",
      "322/322 [==============================] - 0s 564us/step - loss: 0.0021\n",
      "Epoch 6/10\n",
      "322/322 [==============================] - 0s 522us/step - loss: 0.0015\n",
      "Epoch 7/10\n",
      "322/322 [==============================] - 0s 521us/step - loss: 0.0026\n",
      "Epoch 8/10\n",
      "322/322 [==============================] - 0s 523us/step - loss: 0.0025\n",
      "Epoch 9/10\n",
      "322/322 [==============================] - 0s 533us/step - loss: 0.0022\n",
      "Epoch 10/10\n",
      "322/322 [==============================] - 0s 536us/step - loss: 0.0017\n"
     ]
    },
    {
     "data": {
      "text/plain": [
       "<keras.callbacks.History at 0x1aefe1a77b8>"
      ]
     },
     "execution_count": 25,
     "metadata": {},
     "output_type": "execute_result"
    }
   ],
   "source": [
    "model.fit(x_train,y_train,epochs=10,batch_size=32)"
   ]
  },
  {
   "cell_type": "markdown",
   "metadata": {},
   "source": [
    "## Predictions"
   ]
  },
  {
   "cell_type": "code",
   "execution_count": 26,
   "metadata": {},
   "outputs": [],
   "source": [
    "predict_bi=model.predict(x_test)\n",
    "predict_bi=scaler.inverse_transform(predict_bi)"
   ]
  },
  {
   "cell_type": "code",
   "execution_count": 27,
   "metadata": {},
   "outputs": [
    {
     "data": {
      "image/png": "[encoded data removed]",
      "text/plain": [
       "<Figure size 640x320 with 1 Axes>"
      ]
     },
     "metadata": {},
     "output_type": "display_data"
    }
   ],
   "source": [
    "plt.figure(figsize=(8,4), dpi=80, facecolor='w', edgecolor='k')\n",
    "plt.plot(y_true,color=\"r\",label=\"True price values\")\n",
    "plt.plot(predict_bi,color=\"b\",label=\"Model prediction\")\n",
    "plt.legend()\n",
    "plt.xlabel(\"DAYS\")\n",
    "plt.ylabel(\"CLOSING PRICE\")\n",
    "plt.grid(True)"
   ]
  },
  {
   "cell_type": "code",
   "execution_count": 28,
   "metadata": {},
   "outputs": [
    {
     "data": {
      "text/plain": [
       "73.25541289062507"
      ]
     },
     "execution_count": 28,
     "metadata": {},
     "output_type": "execute_result"
    }
   ],
   "source": [
    "mse = mean_absolute_error(y_pred=predict_bi, y_true=y_true)\n",
    "mse"
   ]
  },
  {
   "cell_type": "code",
   "execution_count": null,
   "metadata": {},
   "outputs": [],
   "source": []
  }
 ],
 "metadata": {
  "kernelspec": {
   "display_name": "Python 3",
   "language": "python",
   "name": "python3"
  },
  "language_info": {
   "codemirror_mode": {
    "name": "ipython",
    "version": 3
   },
   "file_extension": ".py",
   "mimetype": "text/x-python",
   "name": "python",
   "nbconvert_exporter": "python",
   "pygments_lexer": "ipython3",
   "version": "3.6.6"
  }
 },
 "nbformat": 4,
 "nbformat_minor": 2
}
